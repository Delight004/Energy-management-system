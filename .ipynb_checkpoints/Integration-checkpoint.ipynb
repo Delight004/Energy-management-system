{
 "cells": [
  {
   "cell_type": "raw",
   "id": "e7f96d9b-017c-48c6-91a1-9271c06256c6",
   "metadata": {},
   "source": [
    "battery_capacity = 1000  # kWh (total battery capacity)\n",
    "current_storage = 500    # kWh (initial energy storage)\n",
    "demand = 150             # kWh (energy demand)\n",
    "grid_connected = True    # Whether grid connection is available"
   ]
  },
  {
   "cell_type": "code",
   "execution_count": 2,
   "id": "63a41431-43fe-43ff-864b-0fbede84aacf",
   "metadata": {},
   "outputs": [],
   "source": [
    "def energy_management_system(predicted_pv, current_demand, current_storage, battery_capacity, grid_connected):\n",
    "    # Check PV power generation\n",
    "    if predicted_pv >= current_demand:\n",
    "        # Excess energy generated\n",
    "        excess_energy = predicted_pv - current_demand\n",
    "        if current_storage + excess_energy <= battery_capacity:\n",
    "            current_storage += excess_energy\n",
    "            print(f\"Storing {excess_energy:.2f} kWh. Current storage: {current_storage:.2f} kWh\")\n",
    "        else:\n",
    "            # Battery full, excess energy can go to the grid or be curtailed\n",
    "            print(f\"Battery full. Sending {excess_energy:.2f} kWh to the grid.\")\n",
    "    else:\n",
    "        # PV energy is insufficient to meet demand\n",
    "        deficit = current_demand - predicted_pv\n",
    "        if current_storage >= deficit:\n",
    "            # Use battery storage to meet demand\n",
    "            current_storage -= deficit\n",
    "            print(f\"Discharging {deficit:.2f} kWh from battery. Remaining storage: {current_storage:.2f} kWh\")\n",
    "        else:\n",
    "            # Not enough storage, rely on grid\n",
    "            if grid_connected:\n",
    "                print(f\"Grid required to supply {deficit - current_storage:.2f} kWh. Battery depleted.\")\n",
    "                current_storage = 0\n",
    "            else:\n",
    "                print(f\"Insufficient energy. Load shedding may be needed. Only {current_storage:.2f} kWh available.\")\n",
    "\n",
    "    return current_storage"
   ]
  },
  {
   "cell_type": "code",
   "execution_count": null,
   "id": "e4453d1d-792f-40ee-9145-d16e6e8568f8",
   "metadata": {},
   "outputs": [],
   "source": [
    "#new_storage = energy_management_system(predicted_pv, demand, current_storage, battery_capacity, grid_connected)"
   ]
  },
  {
   "cell_type": "code",
   "execution_count": 8,
   "id": "22630003-07b3-4f41-98b3-2b4f9595460b",
   "metadata": {},
   "outputs": [
    {
     "name": "stdout",
     "output_type": "stream",
     "text": [
      "Storing 250.00 kWh. Current storage: 750.00 kWh\n"
     ]
    }
   ],
   "source": [
    "new_storage = energy_management_system(400, 150, 500, 1000, False)"
   ]
  },
  {
   "cell_type": "code",
   "execution_count": 10,
   "id": "c838fa9e-0903-48c9-a23e-e18d587e3ce3",
   "metadata": {},
   "outputs": [
    {
     "name": "stdout",
     "output_type": "stream",
     "text": [
      "Storing 250.00 kWh. Current storage: 750.00 kWh\n"
     ]
    },
    {
     "data": {
      "text/plain": [
       "750"
      ]
     },
     "execution_count": 10,
     "metadata": {},
     "output_type": "execute_result"
    }
   ],
   "source": [
    "energy_management_system(400, 150, 500, 1000, True)"
   ]
  },
  {
   "cell_type": "code",
   "execution_count": null,
   "id": "63975b0c-5612-4164-a777-d208a8c1adc6",
   "metadata": {},
   "outputs": [],
   "source": []
  }
 ],
 "metadata": {
  "kernelspec": {
   "display_name": "Python 3 (ipykernel)",
   "language": "python",
   "name": "python3"
  },
  "language_info": {
   "codemirror_mode": {
    "name": "ipython",
    "version": 3
   },
   "file_extension": ".py",
   "mimetype": "text/x-python",
   "name": "python",
   "nbconvert_exporter": "python",
   "pygments_lexer": "ipython3",
   "version": "3.11.5"
  }
 },
 "nbformat": 4,
 "nbformat_minor": 5
}
